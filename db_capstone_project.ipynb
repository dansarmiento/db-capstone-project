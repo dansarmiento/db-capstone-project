{
 "cells": [
  {
   "cell_type": "code",
   "execution_count": 2,
   "id": "04981cef-a450-441d-8327-595962b95fb7",
   "metadata": {},
   "outputs": [
    {
     "name": "stdout",
     "output_type": "stream",
     "text": [
      "Python 3.11.7\n"
     ]
    }
   ],
   "source": [
    "# Set up the client project - Task 1\n",
    "!python --version"
   ]
  },
  {
   "cell_type": "code",
   "execution_count": null,
   "id": "9c860ded-8729-4848-be84-011b62891123",
   "metadata": {},
   "outputs": [],
   "source": [
    "# Set up the client project - Task 2 is redundant because I'm already using jupyter"
   ]
  },
  {
   "cell_type": "code",
   "execution_count": 4,
   "id": "3003d22d-5a8b-41a2-9bfe-8adb30c80d70",
   "metadata": {},
   "outputs": [],
   "source": [
    "# Set up the client project - Task 3 - establish a connection between python and the database\n",
    "# Add query functions - Task 1\n",
    "# package already installed\n",
    "# !pip install mysql-connector-python\n",
    "\n",
    "import mysql.connector as connector\n",
    "\n",
    "connection=connector.connect(\n",
    "    host=\"localhost\",\n",
    "    user=\"admin1\",\n",
    "    password=\"service123\",\n",
    "    db=\"little_lemon_sales\"    \n",
    ")"
   ]
  },
  {
   "cell_type": "code",
   "execution_count": 5,
   "id": "bcaed668-83e3-4d56-836a-cd6fae2ea186",
   "metadata": {},
   "outputs": [
    {
     "name": "stdout",
     "output_type": "stream",
     "text": [
      "('bookings',)\n",
      "('customers',)\n",
      "('employees',)\n",
      "('menu',)\n",
      "('menu_items',)\n",
      "('order_delivery',)\n",
      "('orders',)\n"
     ]
    }
   ],
   "source": [
    "# Add query functions Task 2 - Add query functions\n",
    "\n",
    "cursor = connection.cursor()\n",
    "show_tables_query = \"SHOW tables\" \n",
    "cursor.execute(show_tables_query)\n",
    "results = cursor.fetchall()\n",
    "for result in results:\n",
    "    print(result)"
   ]
  },
  {
   "cell_type": "code",
   "execution_count": 6,
   "id": "c0b75c0a-e69e-4463-ac05-6846bfcba9a5",
   "metadata": {},
   "outputs": [
    {
     "name": "stdout",
     "output_type": "stream",
     "text": [
      "Customers with orders greater than $60:\n",
      "Brian Wright | Phone: +1-226-193-6728 | Email: first15last15@example.com | Bill: $189.36\n",
      "Carol Mitchell | Phone: +1-924-294-2698 | Email: first6last6@example.com | Bill: $275.31\n",
      "Robert Campbell | Phone: +1-838-692-5326 | Email: first28last28@example.com | Bill: $64.98\n",
      "Paul Campbell | Phone: +1-630-253-5923 | Email: first49last49@example.com | Bill: $152.13\n",
      "Emily Gonzalez | Phone: +1-154-163-8686 | Email: first13last13@example.com | Bill: $75.33\n",
      "Joseph Roberts | Phone: +1-579-686-2090 | Email: first37last37@example.com | Bill: $287.58\n",
      "Sarah Hall | Phone: +1-383-272-7224 | Email: first45last45@example.com | Bill: $129.12\n",
      "Mary Mitchell | Phone: +1-353-965-3321 | Email: first2last2@example.com | Bill: $169.92\n",
      "Sarah Thomas | Phone: +1-182-527-8514 | Email: first3last3@example.com | Bill: $107.85\n",
      "Kenneth Hernandez | Phone: +1-755-293-9700 | Email: first48last48@example.com | Bill: $122.91\n",
      "Sarah Thomas | Phone: +1-182-527-8514 | Email: first3last3@example.com | Bill: $119.40\n",
      "Sarah Thomas | Phone: +1-182-527-8514 | Email: first3last3@example.com | Bill: $254.82\n",
      "Sarah Hall | Phone: +1-383-272-7224 | Email: first45last45@example.com | Bill: $239.31\n",
      "Susan Nelson | Phone: +1-475-229-1854 | Email: first44last44@example.com | Bill: $62.13\n",
      "Mary Mitchell | Phone: +1-353-965-3321 | Email: first2last2@example.com | Bill: $285.42\n",
      "Sarah Hall | Phone: +1-383-272-7224 | Email: first45last45@example.com | Bill: $180.06\n",
      "Michelle White | Phone: +1-693-360-4997 | Email: first33last33@example.com | Bill: $107.55\n",
      "Linda Harris | Phone: +1-572-385-9974 | Email: first30last30@example.com | Bill: $95.97\n",
      "Carol Mitchell | Phone: +1-924-294-2698 | Email: first6last6@example.com | Bill: $195.99\n",
      "Michael Garcia | Phone: +1-457-800-6163 | Email: first24last24@example.com | Bill: $296.31\n",
      "Robert Johnson | Phone: +1-230-307-9084 | Email: first9last9@example.com | Bill: $274.71\n",
      "Emily Gonzalez | Phone: +1-154-163-8686 | Email: first13last13@example.com | Bill: $110.97\n",
      "Robert Johnson | Phone: +1-230-307-9084 | Email: first9last9@example.com | Bill: $245.58\n",
      "Paul Campbell | Phone: +1-630-253-5923 | Email: first49last49@example.com | Bill: $241.44\n",
      "Carol Mitchell | Phone: +1-924-294-2698 | Email: first6last6@example.com | Bill: $158.67\n",
      "Michael Garcia | Phone: +1-457-800-6163 | Email: first24last24@example.com | Bill: $286.95\n",
      "Melissa Miller | Phone: +1-137-863-7459 | Email: first5last5@example.com | Bill: $267.06\n",
      "Michelle White | Phone: +1-693-360-4997 | Email: first33last33@example.com | Bill: $254.61\n",
      "Andrew Gonzalez | Phone: +1-621-187-2493 | Email: first34last34@example.com | Bill: $126.09\n",
      "Kenneth Hernandez | Phone: +1-755-293-9700 | Email: first48last48@example.com | Bill: $135.06\n",
      "Brian Wright | Phone: +1-226-193-6728 | Email: first15last15@example.com | Bill: $162.21\n",
      "Mary Mitchell | Phone: +1-353-965-3321 | Email: first2last2@example.com | Bill: $229.41\n",
      "Michael Garcia | Phone: +1-457-800-6163 | Email: first24last24@example.com | Bill: $269.28\n",
      "Robert Nelson | Phone: +1-682-967-1305 | Email: first36last36@example.com | Bill: $113.25\n",
      "Brian Wright | Phone: +1-226-193-6728 | Email: first15last15@example.com | Bill: $119.91\n",
      "Robert Nelson | Phone: +1-682-967-1305 | Email: first36last36@example.com | Bill: $141.99\n",
      "Matthew Moore | Phone: +1-235-112-7453 | Email: first40last40@example.com | Bill: $235.32\n",
      "Jessica Hernandez | Phone: +1-803-272-6903 | Email: first50last50@example.com | Bill: $99.90\n",
      "Sarah Hall | Phone: +1-383-272-7224 | Email: first45last45@example.com | Bill: $258.69\n",
      "Elizabeth Wilson | Phone: +1-338-877-6314 | Email: first22last22@example.com | Bill: $222.06\n",
      "Michael Garcia | Phone: +1-457-800-6163 | Email: first24last24@example.com | Bill: $82.53\n",
      "Joseph Roberts | Phone: +1-579-686-2090 | Email: first37last37@example.com | Bill: $125.85\n",
      "Elizabeth Wilson | Phone: +1-338-877-6314 | Email: first22last22@example.com | Bill: $94.74\n",
      "Joseph Roberts | Phone: +1-579-686-2090 | Email: first37last37@example.com | Bill: $171.69\n",
      "Charles Garcia | Phone: +1-139-550-3738 | Email: first38last38@example.com | Bill: $210.57\n",
      "Mary Mitchell | Phone: +1-353-965-3321 | Email: first2last2@example.com | Bill: $205.89\n",
      "Paul Garcia | Phone: +1-971-823-6966 | Email: first7last7@example.com | Bill: $114.24\n",
      "Nancy Moore | Phone: +1-291-740-3439 | Email: first21last21@example.com | Bill: $271.56\n",
      "Sarah Thomas | Phone: +1-182-527-8514 | Email: first3last3@example.com | Bill: $120.42\n",
      "Sarah Hall | Phone: +1-383-272-7224 | Email: first45last45@example.com | Bill: $162.30\n"
     ]
    }
   ],
   "source": [
    "# Add query functions Task 3\n",
    "\n",
    "# Define the JOIN query to get customer info and orders over $60\n",
    "query = '''\n",
    "SELECT \n",
    "    c.customer_first_name,\n",
    "    c.customer_last_name,\n",
    "    c.customer_phone_number,\n",
    "    c.customer_email,\n",
    "    o.bill_amount\n",
    "FROM customers AS c\n",
    "INNER JOIN bookings AS b ON c.customer_id = b.customer_id\n",
    "INNER JOIN orders AS o ON b.booking_id = o.booking_id\n",
    "WHERE o.bill_amount > 60;\n",
    "'''\n",
    "\n",
    "cursor.execute(query)\n",
    "\n",
    "# I populated my database with lots of fabricated data\n",
    "results = cursor.fetchall()\n",
    "print(\"Customers with orders greater than $60:\")\n",
    "for row in results:\n",
    "    first_name, last_name, phone, email, amount = row\n",
    "    print(f\"{first_name} {last_name} | Phone: {phone} | Email: {email} | Bill: ${amount:.2f}\")"
   ]
  },
  {
   "cell_type": "code",
   "execution_count": null,
   "id": "0d10de4c-2f72-471a-8396-056afd9a38b0",
   "metadata": {},
   "outputs": [],
   "source": []
  }
 ],
 "metadata": {
  "kernelspec": {
   "display_name": "Python 3 (ipykernel)",
   "language": "python",
   "name": "python3"
  },
  "language_info": {
   "codemirror_mode": {
    "name": "ipython",
    "version": 3
   },
   "file_extension": ".py",
   "mimetype": "text/x-python",
   "name": "python",
   "nbconvert_exporter": "python",
   "pygments_lexer": "ipython3",
   "version": "3.11.7"
  }
 },
 "nbformat": 4,
 "nbformat_minor": 5
}
